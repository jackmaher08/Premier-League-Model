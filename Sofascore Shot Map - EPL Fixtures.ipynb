{
 "cells": [
  {
   "cell_type": "code",
   "execution_count": null,
   "id": "1e57437c",
   "metadata": {},
   "outputs": [],
   "source": [
    "# install the relevant packages\n",
    "import requests\n",
    "import pandas as pd\n",
    "from mplsoccer import Pitch\n",
    "import matplotlib.pyplot as plt\n",
    "import json\n",
    "import os\n",
    "from matplotlib.colors import LinearSegmentedColormap"
   ]
  },
  {
   "cell_type": "code",
   "execution_count": null,
   "id": "6e70c819",
   "metadata": {},
   "outputs": [],
   "source": [
    "# Scrape all of the shot data from a given fixture from SofaScore\n",
    "url = 'https://www.sofascore.com/football/match/arsenal-chelsea/NR#id:12436890'\n",
    "\n",
    "# the id for the match is listed at the end of the URL\n",
    "match_id = url.split('id:')[-1]\n",
    "\n",
    "match_id"
   ]
  },
  {
   "cell_type": "code",
   "execution_count": null,
   "id": "3735b2f3",
   "metadata": {},
   "outputs": [],
   "source": [
    "# We can extract the team names from the URL\n",
    "\n",
    "url_team_names = url.split('/')[5]\n",
    "\n",
    "url_team_names"
   ]
  },
  {
   "cell_type": "code",
   "execution_count": null,
   "id": "0fe2e4ec",
   "metadata": {},
   "outputs": [],
   "source": [
    "# We can define our Home & Away Team names\n",
    "\n",
    "home_team_name = url_team_names.split('-')[0].capitalize()\n",
    "away_team_name = url_team_names.split('-')[-1].capitalize()\n",
    "\n",
    "print(f'{home_team_name} vs {away_team_name}')"
   ]
  },
  {
   "cell_type": "code",
   "execution_count": null,
   "id": "ceef3cc4",
   "metadata": {},
   "outputs": [],
   "source": [
    "# execute a curl command to get the shot data - will need to sub in the match_id\n",
    "response = json.loads(os.popen(\n",
    "  f'curl -H \"Host: api.sofascore.com\" -H \"Accept: */*\" -H \"User-Agent: curl/8.1.2\" https://api.sofascore.com/api/v1/event/{match_id}/shotmap').read())['shotmap']"
   ]
  },
  {
   "cell_type": "code",
   "execution_count": null,
   "id": "2ee9d016",
   "metadata": {
    "scrolled": true
   },
   "outputs": [],
   "source": [
    "# turn this data into a df\n",
    "\n",
    "df = pd.DataFrame(response)\n",
    "\n",
    "df.columns\n",
    "\n",
    "df.head()"
   ]
  },
  {
   "cell_type": "code",
   "execution_count": null,
   "id": "31a7f65b",
   "metadata": {
    "scrolled": true
   },
   "outputs": [],
   "source": [
    "# Extract the x & y values from the shot coordinates & create indipendant columns for each\n",
    "df['x'] = df['playerCoordinates'].apply(lambda coord: coord['x'])\n",
    "df['y'] = df['playerCoordinates'].apply(lambda coord: coord['y'])\n",
    "\n",
    "# Extract player names from the nested dictionary\n",
    "df['player_name'] = df['player'].apply(lambda x: x['name'] if isinstance(x, dict) and 'name' in x else None)\n",
    "\n",
    "df.head()"
   ]
  },
  {
   "cell_type": "code",
   "execution_count": null,
   "id": "65155fd5",
   "metadata": {},
   "outputs": [],
   "source": [
    "# We'll need to adjust these coordinates from the sofascore pitch size to the statsbomb pitch size to plot them acurately on our pitch\n",
    "\n",
    "# Sofascore uses pitch size 100X100\n",
    "# Statsbomb uses pitch size 120X80\n",
    "\n",
    "sofascore_max_x = 100\n",
    "\n",
    "sofascore_max_y = 100\n",
    "\n",
    "# Scale the x-values from 0-100 (sofascore map) to 0-120 (sb map)\n",
    "\n",
    "df['x_scaled'] = (df['x'] / sofascore_max_x) * 120\n",
    "\n",
    "# Scale the y-values from 0-100 (sofascore map) to 0-80 (sb map)\n",
    "\n",
    "df['y_scaled'] = (df['y'] / sofascore_max_y) * 80"
   ]
  },
  {
   "cell_type": "code",
   "execution_count": null,
   "id": "a61918d4",
   "metadata": {},
   "outputs": [],
   "source": [
    "# Separate home and away data for seperate plotting\n",
    "home_data = df[df['isHome']]\n",
    "away_data = df[~df['isHome']]"
   ]
  },
  {
   "cell_type": "code",
   "execution_count": null,
   "id": "0549ad13",
   "metadata": {},
   "outputs": [],
   "source": [
    "# Invert the x coordinates for away team data to show plots on the right side of the pitch\n",
    "away_data['x_scaled'] = 120 - away_data['x_scaled']"
   ]
  },
  {
   "cell_type": "code",
   "execution_count": null,
   "id": "558c2920",
   "metadata": {},
   "outputs": [],
   "source": [
    "from mplsoccer import Pitch\n",
    "import matplotlib.pyplot as plt\n",
    "from matplotlib.colors import LinearSegmentedColormap\n",
    "\n",
    "# Initialize the pitch (using a standard StatsBomb layout)\n",
    "pitch = Pitch(pitch_type='statsbomb', pitch_color='white', line_color='black', line_zorder=2)\n",
    "\n",
    "# Create figure and axis\n",
    "fig, ax = plt.subplots(figsize=(10, 6))  # One figure, one axis\n",
    "\n",
    "# Combine home and away team shots for the heatmap data\n",
    "all_shots = pd.concat([home_data, away_data])\n",
    "\n",
    "# Define the custom colormap (white to light purple)\n",
    "cmap = LinearSegmentedColormap.from_list('custom_cmap', ['white', 'purple'])\n",
    "\n",
    "# Plot heatmap (with lower zorder to keep it behind the pitch lines)\n",
    "kde = pitch.kdeplot(\n",
    "    all_shots['x_scaled'],  # x-coordinates of all shots, away team data is still inverted on the pitch\n",
    "    all_shots['y_scaled'],  # y-coordinates of all shots\n",
    "    ax=ax,\n",
    "    fill=True, # cover the whole pitch\n",
    "    cmap=cmap,  # Custom colormap\n",
    "    n_levels=100,  # Smooth heatmap\n",
    "    thresh=0,  # Include low-density areas\n",
    "    zorder=1  # Draw heatmap beneath pitch lines\n",
    ")\n",
    "\n",
    "# Redraw the pitch lines (with higher zorder so they are above the heatmap)\n",
    "pitch.draw(ax=ax)\n",
    "\n",
    "# Plot home team shots\n",
    "for index, shot in home_data.iterrows():\n",
    "    x_coord = shot['x_scaled']\n",
    "    y_coord = shot['y_scaled']\n",
    "    color = 'green' if shot['shotType'] == 'goal' else 'white'\n",
    "    zorder = 3 if shot['shotType'] == 'goal' else 2  # Keep above heatmap\n",
    "    ax.scatter(x=x_coord, y=y_coord, s=1000 * shot['xg'], ec='black', c=color, zorder=zorder)\n",
    "\n",
    "    # Add a label to the goals for the player who scored\n",
    "    if shot['shotType'] == 'goal':  # Only label goals\n",
    "        ax.text(\n",
    "            x_coord,  # x-coordinate of the text\n",
    "            y_coord - 3,  # y-coordinate of the text\n",
    "            shot['player_name'],  # Text to display\n",
    "            ha='center', \n",
    "            va='center', \n",
    "            fontfamily='monospace', \n",
    "            fontsize=8,\n",
    "            zorder=10,\n",
    "            bbox=dict(facecolor='lightgray', edgecolor='black', alpha=0.8)  # Add background with opacity\n",
    "        )\n",
    "\n",
    "# Plot away team shots\n",
    "for index, shot in away_data.iterrows():\n",
    "    x_coord = shot['x_scaled']\n",
    "    y_coord = shot['y_scaled']\n",
    "    color = 'green' if shot['shotType'] == 'goal' else 'white'\n",
    "    zorder = 3 if shot['shotType'] == 'goal' else 2  # Keep above heatmap\n",
    "    ax.scatter(x=x_coord, y=y_coord, s=1000 * shot['xg'], ec='black', c=color, zorder=zorder)\n",
    "\n",
    "    # Add a label to the goals for the player who scored\n",
    "    if shot['shotType'] == 'goal':  # Only label goals\n",
    "        ax.text(\n",
    "            x_coord,  # x-coordinate of the text\n",
    "            y_coord - 3.5,  # y-coordinate of the text\n",
    "            shot['player_name'],  # Text to display\n",
    "            ha='center', \n",
    "            va='center', \n",
    "            fontfamily='monospace', \n",
    "            fontsize=8,\n",
    "            zorder=10,\n",
    "            bbox=dict(facecolor='lightgray', edgecolor='black', alpha=0.7)  # Add background with opacity\n",
    "        )\n",
    "\n",
    "# Add a Title\n",
    "ax.set_title(f\"{home_team_name} v {away_team_name}\\nShot Map with Shot Heatmap\", fontsize=20, y=1)\n",
    "\n",
    "# Add the Team names\n",
    "ax.text(30, 10, f'{home_team_name} Shots', ha='center', fontsize=16)\n",
    "ax.text(90, 10, f'{away_team_name} Shots', ha='center', fontsize=16)\n",
    "\n",
    "# Display\n",
    "plt.tight_layout()\n",
    "plt.show()\n"
   ]
  },
  {
   "cell_type": "code",
   "execution_count": null,
   "id": "e0361807",
   "metadata": {},
   "outputs": [],
   "source": []
  },
  {
   "cell_type": "code",
   "execution_count": null,
   "id": "31f54594",
   "metadata": {},
   "outputs": [],
   "source": []
  },
  {
   "cell_type": "code",
   "execution_count": null,
   "id": "2fac70ca",
   "metadata": {},
   "outputs": [],
   "source": []
  },
  {
   "cell_type": "code",
   "execution_count": null,
   "id": "015d72a8",
   "metadata": {},
   "outputs": [],
   "source": []
  },
  {
   "cell_type": "code",
   "execution_count": null,
   "id": "1b1bf224",
   "metadata": {},
   "outputs": [],
   "source": []
  },
  {
   "cell_type": "code",
   "execution_count": null,
   "id": "149a41a9",
   "metadata": {},
   "outputs": [],
   "source": []
  },
  {
   "cell_type": "code",
   "execution_count": null,
   "id": "8be67944",
   "metadata": {},
   "outputs": [],
   "source": []
  },
  {
   "cell_type": "code",
   "execution_count": null,
   "id": "5a6e816d",
   "metadata": {},
   "outputs": [],
   "source": []
  },
  {
   "cell_type": "code",
   "execution_count": null,
   "id": "3e80c366",
   "metadata": {},
   "outputs": [],
   "source": []
  },
  {
   "cell_type": "code",
   "execution_count": null,
   "id": "317011b8",
   "metadata": {},
   "outputs": [],
   "source": []
  },
  {
   "cell_type": "code",
   "execution_count": null,
   "id": "5e2992e4",
   "metadata": {},
   "outputs": [],
   "source": []
  },
  {
   "cell_type": "code",
   "execution_count": null,
   "id": "6b339436",
   "metadata": {},
   "outputs": [],
   "source": []
  },
  {
   "cell_type": "code",
   "execution_count": null,
   "id": "94f26c1e",
   "metadata": {},
   "outputs": [],
   "source": []
  },
  {
   "cell_type": "code",
   "execution_count": null,
   "id": "599a36c6",
   "metadata": {},
   "outputs": [],
   "source": []
  },
  {
   "cell_type": "code",
   "execution_count": null,
   "id": "2f890e05",
   "metadata": {},
   "outputs": [],
   "source": []
  },
  {
   "cell_type": "code",
   "execution_count": null,
   "id": "ad909f20",
   "metadata": {},
   "outputs": [],
   "source": []
  },
  {
   "cell_type": "code",
   "execution_count": null,
   "id": "302505ce",
   "metadata": {},
   "outputs": [],
   "source": []
  },
  {
   "cell_type": "code",
   "execution_count": null,
   "id": "2f8ad53d",
   "metadata": {},
   "outputs": [],
   "source": []
  },
  {
   "cell_type": "code",
   "execution_count": null,
   "id": "6df84888",
   "metadata": {},
   "outputs": [],
   "source": []
  },
  {
   "cell_type": "code",
   "execution_count": null,
   "id": "e380c5d5",
   "metadata": {},
   "outputs": [],
   "source": []
  },
  {
   "cell_type": "code",
   "execution_count": null,
   "id": "485b61b0",
   "metadata": {},
   "outputs": [],
   "source": []
  },
  {
   "cell_type": "code",
   "execution_count": null,
   "id": "91e8cd0c",
   "metadata": {},
   "outputs": [],
   "source": []
  },
  {
   "cell_type": "code",
   "execution_count": null,
   "id": "5f39cc36",
   "metadata": {},
   "outputs": [],
   "source": []
  },
  {
   "cell_type": "code",
   "execution_count": null,
   "id": "363d14b7",
   "metadata": {},
   "outputs": [],
   "source": []
  },
  {
   "cell_type": "code",
   "execution_count": null,
   "id": "b462981b",
   "metadata": {},
   "outputs": [],
   "source": []
  },
  {
   "cell_type": "code",
   "execution_count": null,
   "id": "a4a2efda",
   "metadata": {},
   "outputs": [],
   "source": []
  },
  {
   "cell_type": "code",
   "execution_count": null,
   "id": "4995762a",
   "metadata": {},
   "outputs": [],
   "source": []
  },
  {
   "cell_type": "code",
   "execution_count": null,
   "id": "b308c936",
   "metadata": {},
   "outputs": [],
   "source": []
  },
  {
   "cell_type": "code",
   "execution_count": null,
   "id": "cdf48726",
   "metadata": {},
   "outputs": [],
   "source": []
  },
  {
   "cell_type": "code",
   "execution_count": null,
   "id": "16d98a0b",
   "metadata": {},
   "outputs": [],
   "source": []
  },
  {
   "cell_type": "code",
   "execution_count": null,
   "id": "d651abac",
   "metadata": {},
   "outputs": [],
   "source": []
  },
  {
   "cell_type": "code",
   "execution_count": null,
   "id": "12fe5329",
   "metadata": {},
   "outputs": [],
   "source": []
  },
  {
   "cell_type": "code",
   "execution_count": null,
   "id": "7adbc555",
   "metadata": {},
   "outputs": [],
   "source": []
  },
  {
   "cell_type": "code",
   "execution_count": null,
   "id": "54836bd6",
   "metadata": {},
   "outputs": [],
   "source": []
  },
  {
   "cell_type": "code",
   "execution_count": null,
   "id": "43812619",
   "metadata": {},
   "outputs": [],
   "source": []
  },
  {
   "cell_type": "code",
   "execution_count": null,
   "id": "166161a3",
   "metadata": {},
   "outputs": [],
   "source": []
  },
  {
   "cell_type": "code",
   "execution_count": null,
   "id": "65b888bd",
   "metadata": {},
   "outputs": [],
   "source": []
  },
  {
   "cell_type": "code",
   "execution_count": null,
   "id": "64eb2bae",
   "metadata": {},
   "outputs": [],
   "source": []
  },
  {
   "cell_type": "code",
   "execution_count": null,
   "id": "4e26c95f",
   "metadata": {},
   "outputs": [],
   "source": []
  },
  {
   "cell_type": "code",
   "execution_count": null,
   "id": "5a5ca662",
   "metadata": {},
   "outputs": [],
   "source": []
  },
  {
   "cell_type": "code",
   "execution_count": null,
   "id": "ad685ec4",
   "metadata": {},
   "outputs": [],
   "source": []
  },
  {
   "cell_type": "code",
   "execution_count": null,
   "id": "b9be5fa8",
   "metadata": {},
   "outputs": [],
   "source": []
  },
  {
   "cell_type": "code",
   "execution_count": null,
   "id": "95ea50ce",
   "metadata": {},
   "outputs": [],
   "source": []
  },
  {
   "cell_type": "code",
   "execution_count": null,
   "id": "bb1a34f2",
   "metadata": {},
   "outputs": [],
   "source": []
  },
  {
   "cell_type": "markdown",
   "id": "4dbc98e9",
   "metadata": {},
   "source": [
    "df.columns"
   ]
  },
  {
   "cell_type": "code",
   "execution_count": null,
   "id": "5e6186e6",
   "metadata": {},
   "outputs": [],
   "source": [
    "df.columns"
   ]
  },
  {
   "cell_type": "code",
   "execution_count": null,
   "id": "1129a4fb",
   "metadata": {},
   "outputs": [],
   "source": []
  },
  {
   "cell_type": "code",
   "execution_count": null,
   "id": "2e39e64a",
   "metadata": {},
   "outputs": [],
   "source": []
  },
  {
   "cell_type": "code",
   "execution_count": null,
   "id": "c838c707",
   "metadata": {},
   "outputs": [],
   "source": []
  },
  {
   "cell_type": "code",
   "execution_count": null,
   "id": "88e04772",
   "metadata": {},
   "outputs": [],
   "source": []
  },
  {
   "cell_type": "code",
   "execution_count": null,
   "id": "f3f666ca",
   "metadata": {},
   "outputs": [],
   "source": []
  },
  {
   "cell_type": "code",
   "execution_count": null,
   "id": "d40edabc",
   "metadata": {},
   "outputs": [],
   "source": []
  }
 ],
 "metadata": {
  "kernelspec": {
   "display_name": "Python 3 (ipykernel)",
   "language": "python",
   "name": "python3"
  },
  "language_info": {
   "codemirror_mode": {
    "name": "ipython",
    "version": 3
   },
   "file_extension": ".py",
   "mimetype": "text/x-python",
   "name": "python",
   "nbconvert_exporter": "python",
   "pygments_lexer": "ipython3",
   "version": "3.11.5"
  }
 },
 "nbformat": 4,
 "nbformat_minor": 5
}
